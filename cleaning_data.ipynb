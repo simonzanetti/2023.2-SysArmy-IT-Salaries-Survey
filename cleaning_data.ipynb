{
  "cells": [
    {
      "cell_type": "markdown",
      "metadata": {
        "id": "N0FdHavCAfiN"
      },
      "source": [
        "# OBTENCION DE DATOS\n",
        "**IMPORTAR LIBRERIAS Y OBTENER EL DATASET**\n",
        "\n",
        "En primer lugar, importaremos las siguientes librerias necesarias para el analisis y procederemos a leer y mostrar el dataset."
      ]
    },
    {
      "cell_type": "code",
      "execution_count": 86,
      "metadata": {
        "id": "J_bgYp3p8wFv"
      },
      "outputs": [],
      "source": [
        "import re\n",
        "import warnings\n",
        "import numpy as np\n",
        "import pandas as pd\n",
        "import seaborn as sns\n",
        "import matplotlib.pyplot as plt\n",
        "from scipy import stats\n",
        "from IPython.display import display\n",
        "\n",
        "pd.set_option('display.max_columns', None)\n",
        "pd.set_option('display.max_rows', None)\n",
        "pd.options.display.float_format = '{:.0f}'.format\n",
        "warnings.filterwarnings('ignore')"
      ]
    },
    {
      "cell_type": "code",
      "execution_count": 87,
      "metadata": {
        "id": "Sx-7HHeU-uiG"
      },
      "outputs": [],
      "source": [
        "url ='https://raw.githubusercontent.com/simonzanetti/2023.2-SysArmy-IT-Salaries-Survey/main/dataset.csv'\n",
        "df = pd.read_csv(url)\n",
        "\n",
        "#display(df.head(1))\n",
        "#print(\"Shape: \" + str(df.shape))"
      ]
    },
    {
      "cell_type": "markdown",
      "metadata": {
        "id": "XFmiyJo1AUsW"
      },
      "source": [
        "# LIMPIEZA DEL DATASET\n",
        "**ORDENAR COLUMNAS**\n",
        "\n",
        "El primer paso de nuestra limpieza sera traducir al ingles el nombre de las columnas y eliminar aquellas que no sean relevantes para el analisis. Tambien ordene las columnas en las categorias:\n",
        "- Empleado\n",
        "- Trabajo\n",
        "- Empresa\n",
        "- Sueldo\n",
        "- Herramientas\n",
        "- Estudios\n",
        "\n",
        "Las columnas eliminadas fueron:\n",
        "- 'work_country': La totalidad de los encuestados es de Argentina\n",
        "- 'ARS/USD_exchange': No solo que el porcentaje de los que cobra parte o la totalidad de su sueldo en dolares es pequeño, sino tambien que existen varios tipos de cotizacion y no se aclara cual se usa en cada caso, ademas que la cotizacion suele variar segun las semanas, horas o dias, por lo que es una variable inestable y he decidido eliminarla.\n",
        "- 'is:number': Una variable que no vamos a utilizar."
      ]
    },
    {
      "cell_type": "code",
      "execution_count": 88,
      "metadata": {
        "colab": {
          "base_uri": "https://localhost:8080/",
          "height": 73
        },
        "id": "i8N8DCyaAXuF",
        "outputId": "116bee44-b17c-41eb-8bc0-39884429ef29"
      },
      "outputs": [],
      "source": [
        "columns_names = ['work_country','work_province','work_type','work_contract_type',\n",
        "                'last_month_gross_salary','last_month_net_salary','salary_in_usd',\n",
        "                'ARS/USD_exchange','salary_has_bonus','salary_bonus_tied_to',\n",
        "                '2023_salary_adjusment_times','percentage_adjustment',\n",
        "                'last_adjustment_month','last_semester_salary_comparison',\n",
        "                'work_place_benefits','salary_satisfaction','work_title','years_experience',\n",
        "                'years_in_company','years_in_position','people_in_charge','platforms',\n",
        "                'programming_languages','frameworks','databases','qa_testing_tools',\n",
        "                'company_size','work_mode','office_days_number(hybrid)','work_place_satisfaction',\n",
        "                'AI_tools_use','finish_survey(1)','highest_level_studies','status','degree/specialization',\n",
        "                'university/school','finish_survey(2)','work_on-call_duty','salary_on-call_duty',\n",
        "                'is_number','finish_survey(3)','age','gender']\n",
        "\n",
        "for i, nuevo_nombre in enumerate(columns_names):\n",
        "    df.rename(columns={df.columns[i]: nuevo_nombre}, inplace=True)\n",
        "\n",
        "salaries = pd.concat([df.iloc[:,0:2],df.iloc[:,41:],df.iloc[:,16],\n",
        "                      df.iloc[:,2:4],df.iloc[:,27],df.iloc[:,17:21],df.iloc[:,26:27],df.iloc[:,28:30],df.iloc[:,14],\n",
        "                      df.iloc[:,4:14],df.iloc[:,15],df.iloc[:,21:26],df.iloc[:,30:41]],\n",
        "                      axis=1)\n",
        "\n",
        "salaries.drop(inplace=True, columns=[\n",
        "                                    'work_country','ARS/USD_exchange','2023_salary_adjusment_times',\n",
        "                                    'percentage_adjustment','last_adjustment_month',\n",
        "                                    'last_semester_salary_comparison','finish_survey(1)','finish_survey(2)',\n",
        "                                    'work_on-call_duty','salary_on-call_duty','is_number','finish_survey(3)'\n",
        "                                    ])\n",
        "\n",
        "#print(salaries.dtypes)"
      ]
    },
    {
      "cell_type": "markdown",
      "metadata": {
        "id": "UIEbK5w6HlHY"
      },
      "source": [
        "**LIMPIEZA Y TRANSFORMACION DE NANS**"
      ]
    },
    {
      "cell_type": "code",
      "execution_count": 89,
      "metadata": {
        "id": "gPFTqLimHsno"
      },
      "outputs": [
        {
          "name": "stdout",
          "output_type": "stream",
          "text": [
            "Cantidad de Nans por limpiar: \n",
            "last_month_net_salary     239\n",
            "salary_in_usd            3865\n",
            "platforms                   2\n",
            "programming_languages       2\n",
            "frameworks                  3\n",
            "databases                   3\n",
            "qa_testing_tools            5\n",
            "highest_level_studies    3192\n",
            "status                   3192\n",
            "degree/specialization    3284\n",
            "university/school        3767\n",
            "dtype: int64\n"
          ]
        }
      ],
      "source": [
        "print('Cantidad de Nans por limpiar: ')\n",
        "print(salaries.isna().sum()[salaries.isna().sum() > 0])\n",
        "\n",
        "#SALARY_IN_USD\n",
        "#print(salaries['salary_in_usd'].unique())\n",
        "salaries['salary_in_usd'].fillna('No cobro mi salario en dolares',inplace=True)\n",
        "\n",
        "#TOOLS\n",
        "salaries.loc[:, 'platforms':'AI_tools_use'] = salaries.loc[:, 'platforms':'AI_tools_use'].fillna('Ninguna de las anteriores')\n",
        "\n",
        "#STUDIES\n",
        "#print(df['finish_survey(1)'].unique())\n",
        "#print(df['highest_level_studies'].unique())\n",
        "for columns in ('highest_level_studies','status','degree/specialization','university/school'):\n",
        "    salaries.loc[(df['finish_survey(1)'] == 'Terminar encuesta') |\n",
        "                 (df['finish_survey(1)'] == 'Responder sobre guardias'), columns] = 'Prefiero no responder'\n",
        "\n",
        "for columns in ('degree/specialization','university/school'):\n",
        "    salaries.loc[(df['highest_level_studies'] == 'Secundario'), columns] = 'Prefiero no responder'"
      ]
    },
    {
      "cell_type": "markdown",
      "metadata": {
        "id": "6mRopCLeFag4"
      },
      "source": [
        "**LIMPIEZA DE DUPLICADOS**\n"
      ]
    },
    {
      "cell_type": "code",
      "execution_count": null,
      "metadata": {
        "id": "bbOwd8uWFqRf"
      },
      "outputs": [],
      "source": []
    },
    {
      "cell_type": "markdown",
      "metadata": {
        "id": "FJ1i89JM8Eoa"
      },
      "source": [
        "**NORMALIZACION DE VALORES**\n",
        "\n",
        "En algunas columnas de este dataset nos encontraremos con una gran dispersion de opciones, con valores incorrectos o con valores que no representan de forma adecuada la respuesta del encuestado. Debido a ello necesitamos realizar una normalizacion de valores, en algunos casos en formato string y en otros casos en formato numerico.\n",
        "\n",
        "Con la necesidad de reducir el tamaño del codigo, he creado una funcion que toma un dataset, una columna y un diccionario que contiene un mapeo regex, devolviendo un nuevo dataset normalizado.\n",
        "\n",
        "Mediante el metodo pd.nunique() podemos ver la cantidad de opciones por cada variable, notando ciertas irregularidades:\n",
        "- **'gender'**: Presenta 144 opciones diferentes de generos, lo cual nos muestra que exste una dispersion erronea en los datos.\n",
        "- **'work title'**: Presenta una gran dispersion de valores.\n",
        "- **'people_in_charge'**: Hay 58 opciones que varian entre 0 y 300. Lo ideal seria agruparlas en categorias mas generales, pero para ello se necesita realizar un analisis para visualizar outliers y correlacion con otras variables para detectar valores falsos.  \n",
        "- **'company_size'**: Hay 11 categorias que varian entre 0 y 10000. Lo ideal seria agruparlas en categorias mas generales, pero para ello se necesita realizar un analisis para visualizar outliers y correlacion con otras variables para detectar valores falsos.\n",
        "- **'office_days_number(hybrid)'**: Las opciones '0' y '5' no son correctas, ya que representan a los empleados que o no van nunca a la oficina o que van todos los dias, lo cual no condice con el modo de trabajo hibrido. Se necesita un analisis previo antes de normalizar.\n",
        "\n"
      ]
    },
    {
      "cell_type": "markdown",
      "metadata": {
        "id": "1TUAkxM_Chjj"
      },
      "source": [
        "**FUNCIONES AUXILIARES NORMALIZACION**"
      ]
    },
    {
      "cell_type": "code",
      "execution_count": 90,
      "metadata": {
        "id": "d_CuXelt96FE"
      },
      "outputs": [],
      "source": [
        "def normalize_dataframe(df_in, column_name, regex_assign_map):\n",
        "    df_out = df_in.copy()\n",
        "    for regex, value in regex_assign_map.items():\n",
        "        print(\"\\nElementos de \" + str.capitalize(column_name) + \" que integran la categoria \" + regex +':')\n",
        "        compiled_regex = re.compile(regex, re.I)\n",
        "        mask = df_in[column_name].str.strip().str.match(compiled_regex, na=False)\n",
        "        print(df_in[df_out[column_name].str.strip().str.match(compiled_regex, na=False)][column_name].unique())\n",
        "        df_out.loc[mask, column_name] = value\n",
        "    return df_out\n",
        "\n",
        "def extract_values(column):\n",
        "    value_counts_series = (column.str.extractall(r\"(?P<count>[^,]+),? ?\")[\"count\"].value_counts(sort=True))\n",
        "    df_out = pd.DataFrame({'item': value_counts_series.index, 'counts': value_counts_series.values})\n",
        "    return df_out"
      ]
    },
    {
      "cell_type": "code",
      "execution_count": 25,
      "metadata": {
        "id": "FXTB5iC7CwGl"
      },
      "outputs": [],
      "source": [
        "#print(\"Cantidad de valores que toma cada variable: \")\n",
        "#print(salaries.nunique())"
      ]
    },
    {
      "cell_type": "markdown",
      "metadata": {
        "id": "rsbrf3QTNMtx"
      },
      "source": [
        "**WORKER**"
      ]
    },
    {
      "cell_type": "code",
      "execution_count": null,
      "metadata": {
        "id": "80wQHTzBGR2k"
      },
      "outputs": [],
      "source": [
        "#GENERO\n",
        "#print(salaries['gender'].unique())\n",
        "\n",
        "salaries_temp = normalize_dataframe(salaries, 'gender',\n",
        "    {\n",
        "        \"^(?!.*(mujer)).*hombre.*|.*macho.*|.*muchacho.*|.*varoo.*|.*masculino.*|^(?!.*(?:trans|bi|\\b(var[oó]n cis)\\b))var[oó]n\" : \"Varón Cis\",\n",
        "        \"^(?!.*(?:trans|bi|ag[eé]nero|var[oó]n|hombre|hombres)).*mujer|.*mujer de cuando solo existian hombres y mujeres*.\" : \"Mujer Cis\",\n",
        "        \"^(?=.*mujer|var[oó]n)(?=.*trans)(?!.*nb).*\" : \"Otros\",\n",
        "        \"^(?=.*mujer|var[oó]n)\\b(bi)\\b\" : \"Otros\",\n",
        "        \".*ag[eé]nero.*\" : \"Otros\",\n",
        "        \".*nb.*|.*no binario.*|.*no binarie.*|big[eé]nero|.*varon bi.*\" : \"Otros\",\n",
        "        \".*fluido.*\" : \"Otros\",\n",
        "        \".*queer.*\" : \"Otros\",\n",
        "        \".*puto.*|.*marika.*|.*lesbiana.*\" : \"Otros\",\n",
        "    })\n",
        "    \n",
        "print('\\nElementos de Gender que no entran en las categorias anteriores')\n",
        "print(salaries_temp['gender'][~salaries_temp['gender'].isin(['Varón Cis','Mujer Cis','Prefiero no decir','Otros'])].unique())\n",
        "salaries_temp['gender'] = np.where(salaries_temp['gender'].isin(['Varón Cis','Mujer Cis','Prefiero no decir','Otros']), salaries_temp['gender'], 'No especificados o erroneos')"
      ]
    },
    {
      "cell_type": "markdown",
      "metadata": {
        "id": "1oMnM5BZNU0Z"
      },
      "source": [
        "**WORK**"
      ]
    },
    {
      "cell_type": "code",
      "execution_count": null,
      "metadata": {
        "id": "_Ncx1sRMBfET"
      },
      "outputs": [],
      "source": [
        "#WORK_TITLE\n",
        "#print(salaries['work_title'].unique())\n",
        "\n",
        "salaries1 = normalize_dataframe(salaries, 'work_title',\n",
        "    {\n",
        "        \"bi|data analyst\" : \"BI Analyst / Data Analyst\",\n",
        "        \"manager\" : \"BI Analyst / Data Analyst\",\n",
        "        \"analista\" : \"BI Analyst / Data Analyst\",\n",
        "    })\n",
        "\n",
        "fig = plt.figure(figsize=(15, 5))\n",
        "ax = sns.countplot(y=salaries['work_title'], color='steelblue', order=df[\"work_title\"].value_counts().index)\n",
        "plt.title(\"Distribucion de encuestados por posición\",loc='center')\n",
        "plt.xlabel(\"Cantidad\")\n",
        "plt.ylabel('')\n",
        "#ax.bar_label(ax.containers[0], padding=3)\n",
        "ax.margins(y=0.015)"
      ]
    },
    {
      "cell_type": "code",
      "execution_count": 93,
      "metadata": {
        "id": "lpOQhR-ysOPk"
      },
      "outputs": [],
      "source": [
        "# WORK_CONTRACT TYPE\n",
        "#print(salaries[\"work_contract_type\"].unique())\n",
        "salaries_temp['work_contract_type'] = salaries['work_contract_type'].replace({\n",
        "                                                                                'Staff (planta permanente)' : 'Planta permanente',\n",
        "                                                                                'Tercerizado (trabajo a través de consultora o agencia)' : 'Tercerizado',\n",
        "                                                                                'Contractor' : 'Contratista',\n",
        "                                                                                'Participación societaria en una cooperativa': 'Participación societaria'\n",
        "                                                                            })"
      ]
    },
    {
      "cell_type": "code",
      "execution_count": 94,
      "metadata": {
        "id": "a7tobJ2UHuoJ"
      },
      "outputs": [],
      "source": [
        "# WORK_MODE\n",
        "#print(salaries[\"work_mode\"].unique())\n",
        "salaries_temp['work_mode'] = salaries['work_mode'].replace({\n",
        "                                                            '100% presencial' : 'Presencial',\n",
        "                                                            'Híbrido (presencial y remoto)' : 'Híbrido',\n",
        "                                                            '100% remoto' : 'Remoto'\n",
        "                                                          })\n"
      ]
    },
    {
      "cell_type": "markdown",
      "metadata": {
        "id": "6VI0vLtxNd-o"
      },
      "source": [
        "**COMPANY**"
      ]
    },
    {
      "cell_type": "code",
      "execution_count": 95,
      "metadata": {
        "id": "xWz8IBSUPvR7"
      },
      "outputs": [],
      "source": [
        "#PEOPLE_IN_CHARGE\n",
        "#print(sorted(salaries['people_in_charge'].unique()))\n",
        "\n",
        "salaries_temp['people_in_charge'] = salaries['people_in_charge'].mask(salaries['people_in_charge'] > 5, '+ 5')"
      ]
    },
    {
      "cell_type": "code",
      "execution_count": 97,
      "metadata": {
        "id": "GgU4zEOsl_BY"
      },
      "outputs": [],
      "source": [
        "#COMPANY_SIZE\n",
        "#print(salaries['company_size'].unique())\n",
        "salaries_temp['company_size'] = salaries['company_size'].replace(\n",
        "                                {\n",
        "                                'De 2 a 10 personas' : 'Microempresa (2 a 10 trabajadores)',\n",
        "                                'De 11  a 50  personas' : 'Pequeña empresa (11 a 50 trabajadores)',\n",
        "                                'De 51 a 100 personas' : 'Mediana empresa (50 a 200 trabajadores)',\n",
        "                                'De 101 a 200 personas' : 'Mediana empresa (50 a 200 trabajadores)',\n",
        "                                'De 201 a 500 personas'  : 'Empresa grande (+ 200 trabajadores)', \n",
        "                                'De 501 a 1000 personas' : 'Empresa grande (+ 200 trabajadores)',\n",
        "                                'De 1001 a 2000 personas' : 'Empresa grande (+ 200 trabajadores)',\n",
        "                                'De 2001a 5000 personas' : 'Empresa grande (+ 200 trabajadores)', \n",
        "                                'De 5001 a 10000 personas' : 'Empresa grande (+ 200 trabajadores)',\n",
        "                                'Más de 10000 personas' : 'Empresa grande (+ 200 trabajadores)'\n",
        "                                })"
      ]
    },
    {
      "cell_type": "code",
      "execution_count": null,
      "metadata": {
        "id": "J563gRewp3kC"
      },
      "outputs": [],
      "source": [
        "#OFFICE_DAYS_NUMBER\n",
        "'''\n",
        "ESPERAR ANALISIS\n",
        "print(sorted(salaries['office_days_number(hybrid)'].unique()))\n",
        "#sns.countplot(y=salaries['office_days_number(hybrid)'], color='steelblue',order=salaries['office_days_number(hybrid)'].value_counts().index)\n",
        "sns.heatmap(pd.crosstab(salaries['office_days_number(hybrid)'], salaries['work_mode']), annot=True, fmt='d', cmap='YlGnBu')\n",
        "'''"
      ]
    },
    {
      "cell_type": "code",
      "execution_count": null,
      "metadata": {
        "id": "f1iHiuqsvkEq"
      },
      "outputs": [],
      "source": [
        "#WORK_PLACE_SATISFACTION\n",
        "'''\n",
        "ES NECESARIO ALGUN TIPO DE CLUSTERING PARA AGRUPAR\n",
        "#WORK_PLACE_SATISFACTION\n",
        "#print('work_place_satisfaction'].unique())\n",
        "salaries['work_place_satisfaction'] = salaries['work_place_satisfaction'].replace({\n",
        "                                                            1:'Muy insatisfecho',2:'Muy insatisfecho',\n",
        "                                                            3:'Escasamente satisfecho',4:'Escasamente satisfecho',5: 'Escasamente satisfecho',\n",
        "                                                            6:'Ampliamente satisfecho',7:'Ampliamente satisfecho',8: 'Ampliamente satisfecho',\n",
        "                                                            9:'Muy satisfecho',10:'Muy satisfecho'\n",
        "                                                            })\n",
        "'''"
      ]
    },
    {
      "cell_type": "code",
      "execution_count": 99,
      "metadata": {
        "id": "jcnqP7YDoeWZ"
      },
      "outputs": [],
      "source": [
        "#WORK_BENEFITS\n",
        "#print(salaries['work_place_benefits'].unique())\n",
        "benefits_count = extract_values(salaries['work_place_benefits'])"
      ]
    },
    {
      "cell_type": "markdown",
      "metadata": {
        "id": "SwEU0TtVNlqQ"
      },
      "source": [
        "**SALARY**"
      ]
    },
    {
      "cell_type": "code",
      "execution_count": 100,
      "metadata": {
        "id": "HY_gcF4CfDBJ"
      },
      "outputs": [],
      "source": [
        "#SALARY_SATISFACTION\n",
        "#print(salaries['salary_satisfaction'].unique())\n",
        "salaries_temp['salary_satisfaction'] = salaries['salary_satisfaction'].replace({\n",
        "                                                                    1:'Muy insatisfecho',2:'Escasamente satisfecho',\n",
        "                                                                    3:'Ampliamente satisfecho',4:'Muy satisfecho'\n",
        "                                                                               })"
      ]
    },
    {
      "cell_type": "markdown",
      "metadata": {
        "id": "6xEyO9hSNvZn"
      },
      "source": [
        "**TOOLS**"
      ]
    },
    {
      "cell_type": "code",
      "execution_count": 101,
      "metadata": {
        "id": "KyQ64SWvNxq4"
      },
      "outputs": [],
      "source": [
        "#PLATFORMS\n",
        "platforms_count = extract_values(salaries['platforms'])\n",
        "\n",
        "#PROGRAMMING_LENGUAGES\n",
        "programming_languages_count = extract_values(salaries['programming_languages'])\n",
        "\n",
        "#FRAMEWORKS\n",
        "frameworks_count = extract_values(salaries['frameworks'])\n",
        "\n",
        "#DATABASES\n",
        "databases_count = extract_values(salaries['databases'])\n",
        "\n",
        "#QA_TESTING_TOOLS\n",
        "qa_testing_tools_count = extract_values(salaries['qa_testing_tools'])\n",
        "\n",
        "#AI_TOOLS_USE\n",
        "#print(salaries['AI_tools_use'].unique())\n",
        "salaries_temp['AI_tools_use'] = salaries['AI_tools_use'].replace({\n",
        "                                                            0:'No utilizadas',1:'Escasamente utlizadas',\n",
        "                                                            2:'Escasamente utlizadas',3:'Ampliamente utilizadas',\n",
        "                                                            4:'Ampliamente utilizadas',5:'Muy utilizadas'\n",
        "                                                                })\n"
      ]
    },
    {
      "cell_type": "markdown",
      "metadata": {
        "id": "b60JRxDINrcw"
      },
      "source": [
        "**STUDIES**"
      ]
    },
    {
      "cell_type": "code",
      "execution_count": null,
      "metadata": {
        "id": "RKfkPeuEA-Y9"
      },
      "outputs": [],
      "source": [
        "#DEGREE/SPECIALIZATION\n",
        "#print(salaries['degree/specialization'].unique())\n",
        "\n",
        "salaries_temp = normalize_dataframe(salaries, 'degree/specialization',\n",
        "    {\n",
        "        \".*ingenier[ií]a.* .*sistemas.*\" : \"Ingenieria en Sistemas\",\n",
        "        #\".*ana.* .*sistema.* \" : \"Analista de Sistemas\",\n",
        "        \".*empresa.* \" : \"Administracion de Empresas\",\n",
        "        \".*economia.* \" : \"Lic. en Economia\",\n",
        "        \".*desarrollo.* .*web.*\" : \"Tec. en Desarrollo Web\",\n",
        "        \".*desarrollo.* .*movil.*\" : \"Tec. en Desarrollo de Aplicaciones Moviles\",\n",
        "        \".*desarrollo.* .*software.*\" : \"Tec. en Desarrollo de Software\",\n",
        "        \".*juego.* .*game.*\" : \"Tec. en Desarrollo de Videojuegos\",\n",
        "        \"^(?!.*(?:higiene|lic|master|esp)).*seguridad.*\" : \"Tec. en Ciberseguridad/ Seguridad Informatica\",\n",
        "        \"^(?!.*(?:higiene|tec|master|esp)).*seguridad.*\" : \"Lic. en Ciberseguridad/ Seguridad Informatica\",\n",
        "        \".*tec.* .*redes.*\" : \"Tec. en Redes Informaticas y Telecomunicaciones\",\n",
        "        \".*lic.* .*redes.*\" : \"Lic. en Redes Informaticas y Telecomunicaciones\",\n",
        "        \"^(?!.*(?:sistema))(?=.*lic.* .*computaci[oó]n.*)\" : \"Lic. en Ciencia de la Computación\",\n",
        "        \".*ing.* .*computaci[oó]n.*\" : \"Ingeniería en Computación\",\n",
        "        \".*ana.* .*computaci[oó]n.*\" : \"Analista en Computación\",\n",
        "        \".*computaci[oó]n.*\" : \"Ingeniería en Computación\",\n",
        "        #\".*dat.* \" : \"Tec. en Desarrollo de Software\",\n",
        "        #\".*lic.* \" : \"Tec. en Desarrollo de Software\",\n",
        "        #\"^(?!.*(?:robot|admin))(?=.*lic.*sistemas)\" : \"Licenciatura en Sistemas\",\n",
        "    })\n"
      ]
    },
    {
      "cell_type": "code",
      "execution_count": 103,
      "metadata": {},
      "outputs": [],
      "source": [
        "salaries = salaries_temp\n",
        "salaries.to_csv('cleaned_dataset.csv', index=False)"
      ]
    }
  ],
  "metadata": {
    "colab": {
      "authorship_tag": "ABX9TyMlrd0deCPNQ09rZ4Sz+u9K",
      "provenance": []
    },
    "kernelspec": {
      "display_name": "Python 3",
      "name": "python3"
    },
    "language_info": {
      "codemirror_mode": {
        "name": "ipython",
        "version": 3
      },
      "file_extension": ".py",
      "mimetype": "text/x-python",
      "name": "python",
      "nbconvert_exporter": "python",
      "pygments_lexer": "ipython3",
      "version": "3.11.5"
    }
  },
  "nbformat": 4,
  "nbformat_minor": 0
}
