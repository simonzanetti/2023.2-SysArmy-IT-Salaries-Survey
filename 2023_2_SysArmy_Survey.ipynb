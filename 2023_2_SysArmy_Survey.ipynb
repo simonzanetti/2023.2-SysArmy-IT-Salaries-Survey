{
  "cells": [
    {
      "cell_type": "markdown",
      "metadata": {
        "id": "N0FdHavCAfiN"
      },
      "source": [
        "# OBTENCION DE DATOS\n",
        "**IMPORTAR LIBRERIAS Y OBTENER EL DATASET**\n",
        "\n",
        "En primer lugar, importaremos las siguientes librerias necesarias para el analisis y procederemos a leer y mostrar el dataset."
      ]
    },
    {
      "cell_type": "code",
      "execution_count": 1,
      "metadata": {
        "id": "J_bgYp3p8wFv"
      },
      "outputs": [],
      "source": [
        "import re\n",
        "import numpy as np\n",
        "import pandas as pd\n",
        "import seaborn as sns\n",
        "import matplotlib.pyplot as plt\n",
        "from scipy import stats\n",
        "from IPython.display import display\n",
        "\n",
        "pd.set_option('display.max_columns', None)"
      ]
    },
    {
      "cell_type": "code",
      "source": [
        "url ='https://raw.githubusercontent.com/simonzanetti/2023.2-SysArmy-IT-Salaries-Survey/main/dataset.csv'\n",
        "df = pd.read_csv(url)\n",
        "\n",
        "display(df.head(1))\n",
        "\n",
        "#print(\"Shape: \" + str(df.shape))\n",
        "#print(\"\\nColumn Names and Types: \")\n",
        "#print(df.dtypes)"
      ],
      "metadata": {
        "id": "Sx-7HHeU-uiG"
      },
      "execution_count": null,
      "outputs": []
    },
    {
      "cell_type": "markdown",
      "metadata": {
        "id": "XFmiyJo1AUsW"
      },
      "source": [
        "# PREPROCESAMIENTO\n",
        "**ORDENAR COLUMNAS**\n",
        "\n",
        "El primer paso de nuestra limpieza sera traducir al ingles el nombre de las columnas y eliminar aquellas que no sean relevantes para el analisis. Tambien ordene las columnas en las categorias:\n",
        "- Empleado\n",
        "- Trabajo\n",
        "- Empresa\n",
        "- Sueldo\n",
        "- Herramientas\n",
        "- Estudios\n",
        "\n",
        "Las columnas eliminadas fueron:\n",
        "- 'work_country': La totalidad de los encuestados es de Argentina\n",
        "- 'ARS/USD_exchange': No solo que el porcentaje de los que cobra parte o la totalidad de su sueldo en dolares es pequeño, sino tambien que existen varios tipos de cotizacion y no se aclara cual se usa en cada caso, ademas que la cotizacion suele variar segun las semanas, horas o dias, por lo que es una variable inestable y he decidido eliminarla.\n",
        "- 'is:number': Una variable que no vamos a utilizar."
      ]
    },
    {
      "cell_type": "code",
      "execution_count": 4,
      "metadata": {
        "id": "i8N8DCyaAXuF",
        "colab": {
          "base_uri": "https://localhost:8080/",
          "height": 73
        },
        "outputId": "bae15669-6a82-4cbf-a67b-28eb3926e814"
      },
      "outputs": [
        {
          "output_type": "display_data",
          "data": {
            "text/plain": [
              "Empty DataFrame\n",
              "Columns: [work_province, age, gender, work_title, work_dedication, work_contract_type, years_experience, years_in_company, years_in_position, people_in_charge, company_size, work_mode, office_days_number(hybrid), work_place_satisfaction, last_month_gross_salary, last_month_net_salary, salary_in_usd, salary_has_bonus, salary_bonus_tied_to, work_benefits, salary_satisfaction, platforms, programming_languages, frameworks, databases, qa_testing_tools, AI_tools_use, highest_level_studies, status, degree/specialization, university/school]\n",
              "Index: []"
            ],
            "text/html": [
              "\n",
              "  <div id=\"df-1340b6a6-fcb8-4112-a20c-91505acf9bd5\" class=\"colab-df-container\">\n",
              "    <div>\n",
              "<style scoped>\n",
              "    .dataframe tbody tr th:only-of-type {\n",
              "        vertical-align: middle;\n",
              "    }\n",
              "\n",
              "    .dataframe tbody tr th {\n",
              "        vertical-align: top;\n",
              "    }\n",
              "\n",
              "    .dataframe thead th {\n",
              "        text-align: right;\n",
              "    }\n",
              "</style>\n",
              "<table border=\"1\" class=\"dataframe\">\n",
              "  <thead>\n",
              "    <tr style=\"text-align: right;\">\n",
              "      <th></th>\n",
              "      <th>work_province</th>\n",
              "      <th>age</th>\n",
              "      <th>gender</th>\n",
              "      <th>work_title</th>\n",
              "      <th>work_dedication</th>\n",
              "      <th>work_contract_type</th>\n",
              "      <th>years_experience</th>\n",
              "      <th>years_in_company</th>\n",
              "      <th>years_in_position</th>\n",
              "      <th>people_in_charge</th>\n",
              "      <th>company_size</th>\n",
              "      <th>work_mode</th>\n",
              "      <th>office_days_number(hybrid)</th>\n",
              "      <th>work_place_satisfaction</th>\n",
              "      <th>last_month_gross_salary</th>\n",
              "      <th>last_month_net_salary</th>\n",
              "      <th>salary_in_usd</th>\n",
              "      <th>salary_has_bonus</th>\n",
              "      <th>salary_bonus_tied_to</th>\n",
              "      <th>work_benefits</th>\n",
              "      <th>salary_satisfaction</th>\n",
              "      <th>platforms</th>\n",
              "      <th>programming_languages</th>\n",
              "      <th>frameworks</th>\n",
              "      <th>databases</th>\n",
              "      <th>qa_testing_tools</th>\n",
              "      <th>AI_tools_use</th>\n",
              "      <th>highest_level_studies</th>\n",
              "      <th>status</th>\n",
              "      <th>degree/specialization</th>\n",
              "      <th>university/school</th>\n",
              "    </tr>\n",
              "  </thead>\n",
              "  <tbody>\n",
              "  </tbody>\n",
              "</table>\n",
              "</div>\n",
              "    <div class=\"colab-df-buttons\">\n",
              "\n",
              "  <div class=\"colab-df-container\">\n",
              "    <button class=\"colab-df-convert\" onclick=\"convertToInteractive('df-1340b6a6-fcb8-4112-a20c-91505acf9bd5')\"\n",
              "            title=\"Convert this dataframe to an interactive table.\"\n",
              "            style=\"display:none;\">\n",
              "\n",
              "  <svg xmlns=\"http://www.w3.org/2000/svg\" height=\"24px\" viewBox=\"0 -960 960 960\">\n",
              "    <path d=\"M120-120v-720h720v720H120Zm60-500h600v-160H180v160Zm220 220h160v-160H400v160Zm0 220h160v-160H400v160ZM180-400h160v-160H180v160Zm440 0h160v-160H620v160ZM180-180h160v-160H180v160Zm440 0h160v-160H620v160Z\"/>\n",
              "  </svg>\n",
              "    </button>\n",
              "\n",
              "  <style>\n",
              "    .colab-df-container {\n",
              "      display:flex;\n",
              "      gap: 12px;\n",
              "    }\n",
              "\n",
              "    .colab-df-convert {\n",
              "      background-color: #E8F0FE;\n",
              "      border: none;\n",
              "      border-radius: 50%;\n",
              "      cursor: pointer;\n",
              "      display: none;\n",
              "      fill: #1967D2;\n",
              "      height: 32px;\n",
              "      padding: 0 0 0 0;\n",
              "      width: 32px;\n",
              "    }\n",
              "\n",
              "    .colab-df-convert:hover {\n",
              "      background-color: #E2EBFA;\n",
              "      box-shadow: 0px 1px 2px rgba(60, 64, 67, 0.3), 0px 1px 3px 1px rgba(60, 64, 67, 0.15);\n",
              "      fill: #174EA6;\n",
              "    }\n",
              "\n",
              "    .colab-df-buttons div {\n",
              "      margin-bottom: 4px;\n",
              "    }\n",
              "\n",
              "    [theme=dark] .colab-df-convert {\n",
              "      background-color: #3B4455;\n",
              "      fill: #D2E3FC;\n",
              "    }\n",
              "\n",
              "    [theme=dark] .colab-df-convert:hover {\n",
              "      background-color: #434B5C;\n",
              "      box-shadow: 0px 1px 3px 1px rgba(0, 0, 0, 0.15);\n",
              "      filter: drop-shadow(0px 1px 2px rgba(0, 0, 0, 0.3));\n",
              "      fill: #FFFFFF;\n",
              "    }\n",
              "  </style>\n",
              "\n",
              "    <script>\n",
              "      const buttonEl =\n",
              "        document.querySelector('#df-1340b6a6-fcb8-4112-a20c-91505acf9bd5 button.colab-df-convert');\n",
              "      buttonEl.style.display =\n",
              "        google.colab.kernel.accessAllowed ? 'block' : 'none';\n",
              "\n",
              "      async function convertToInteractive(key) {\n",
              "        const element = document.querySelector('#df-1340b6a6-fcb8-4112-a20c-91505acf9bd5');\n",
              "        const dataTable =\n",
              "          await google.colab.kernel.invokeFunction('convertToInteractive',\n",
              "                                                    [key], {});\n",
              "        if (!dataTable) return;\n",
              "\n",
              "        const docLinkHtml = 'Like what you see? Visit the ' +\n",
              "          '<a target=\"_blank\" href=https://colab.research.google.com/notebooks/data_table.ipynb>data table notebook</a>'\n",
              "          + ' to learn more about interactive tables.';\n",
              "        element.innerHTML = '';\n",
              "        dataTable['output_type'] = 'display_data';\n",
              "        await google.colab.output.renderOutput(dataTable, element);\n",
              "        const docLink = document.createElement('div');\n",
              "        docLink.innerHTML = docLinkHtml;\n",
              "        element.appendChild(docLink);\n",
              "      }\n",
              "    </script>\n",
              "  </div>\n",
              "\n",
              "    </div>\n",
              "  </div>\n"
            ]
          },
          "metadata": {}
        }
      ],
      "source": [
        "columns_names = ['work_country','work_province','work_dedication','work_contract_type',\n",
        "                'last_month_gross_salary','last_month_net_salary','salary_in_usd',\n",
        "                'ARS/USD_exchange','salary_has_bonus','salary_bonus_tied_to',\n",
        "                '2023_salary_adjusment_times','percentage_adjustment',\n",
        "                'last_adjustment_month','last_semester_salary_comparison',\n",
        "                'work_benefits','salary_satisfaction','work_title','years_experience',\n",
        "                'years_in_company','years_in_position','people_in_charge','platforms',\n",
        "                'programming_languages','frameworks','databases','qa_testing_tools',\n",
        "                'company_size','work_mode','office_days_number(hybrid)','work_place_satisfaction',\n",
        "                'AI_tools_use','finish_survey(1)','highest_level_studies','status','degree/specialization',\n",
        "                'university/school','finish_survey(2)','work_on-call_duty','salary_on-call_duty',\n",
        "                'is_number','finish_survey(3)','age','gender']\n",
        "\n",
        "for i, nuevo_nombre in enumerate(columns_names):\n",
        "    df.rename(columns={df.columns[i]: nuevo_nombre}, inplace=True)\n",
        "\n",
        "salaries = pd.concat([df.iloc[:,0:2],df.iloc[:,41:],df.iloc[:,16],\n",
        "                      df.iloc[:,2:4],df.iloc[:,17:21],df.iloc[:,26:30],\n",
        "                      df.iloc[:,4:16],df.iloc[:,21:26],df.iloc[:,30:41]],axis=1)\n",
        "\n",
        "salaries.drop(inplace=True, columns=[\n",
        "                                    'work_country','ARS/USD_exchange','2023_salary_adjusment_times',\n",
        "                                    'percentage_adjustment','last_adjustment_month',\n",
        "                                    'last_semester_salary_comparison','finish_survey(1)','finish_survey(2)',\n",
        "                                    'work_on-call_duty','salary_on-call_duty','is_number','finish_survey(3)'\n",
        "                                    ])\n",
        "\n",
        "display(salaries.head(0))"
      ]
    },
    {
      "cell_type": "markdown",
      "source": [
        "**LIMPIEZA Y TRANSFORMACION DE NANS**"
      ],
      "metadata": {
        "id": "UIEbK5w6HlHY"
      }
    },
    {
      "cell_type": "code",
      "source": [
        "print(salaries.isna().sum()) # Recargar celda para visualizar cambios\n",
        "\n",
        "#SALARY_IN_USD\n",
        "#print(salaries['salary_in_usd'].unique())\n",
        "salaries['salary_in_usd'].fillna('No cobro mi salario en dolares',inplace=True)\n",
        "\n",
        "#TOOLS\n",
        "salaries.loc[:, 'platforms':'AI_tools_use'] = salaries.loc[:, 'platforms':'AI_tools_use'].fillna('Ninguna de las anteriores')\n",
        "\n",
        "#STUDIES\n",
        "#print(df['finish_survey(1)'].unique())\n",
        "#print(df['highest_level_studies'].unique())\n",
        "for columns in ('highest_level_studies','status','degree/specialization','university/school'):\n",
        "    salaries.loc[(df['finish_survey(1)'] == 'Terminar encuesta') |\n",
        "                 (df['finish_survey(1)'] == 'Responder sobre guardias'), columns] = 'Prefiero no responder'\n",
        "\n",
        "for columns in ('degree/specialization','university/school'):\n",
        "    salaries.loc[(df['highest_level_studies'] == 'Secundario'), columns] = 'Prefiero no responder'"
      ],
      "metadata": {
        "colab": {
          "base_uri": "https://localhost:8080/"
        },
        "id": "gPFTqLimHsno",
        "outputId": "ad6cf53c-291e-43fa-dbdc-525d4b76f29d"
      },
      "execution_count": 6,
      "outputs": [
        {
          "output_type": "stream",
          "name": "stdout",
          "text": [
            "work_province                   0\n",
            "age                             0\n",
            "gender                          0\n",
            "work_title                      0\n",
            "work_dedication                 0\n",
            "work_contract_type              0\n",
            "years_experience                0\n",
            "years_in_company                0\n",
            "years_in_position               0\n",
            "people_in_charge                0\n",
            "company_size                    0\n",
            "work_mode                       0\n",
            "office_days_number(hybrid)      0\n",
            "work_place_satisfaction         0\n",
            "last_month_gross_salary         0\n",
            "last_month_net_salary         239\n",
            "salary_in_usd                   0\n",
            "salary_has_bonus                0\n",
            "salary_bonus_tied_to            0\n",
            "work_benefits                   0\n",
            "salary_satisfaction             0\n",
            "platforms                       0\n",
            "programming_languages           0\n",
            "frameworks                      0\n",
            "databases                       0\n",
            "qa_testing_tools                0\n",
            "AI_tools_use                    0\n",
            "highest_level_studies           0\n",
            "status                          0\n",
            "degree/specialization          15\n",
            "university/school             350\n",
            "dtype: int64\n"
          ]
        }
      ]
    },
    {
      "cell_type": "markdown",
      "source": [
        "**LIMPIEZA DE DUPLICADOS**\n"
      ],
      "metadata": {
        "id": "6mRopCLeFag4"
      }
    },
    {
      "cell_type": "code",
      "source": [],
      "metadata": {
        "id": "bbOwd8uWFqRf"
      },
      "execution_count": null,
      "outputs": []
    }
  ],
  "metadata": {
    "colab": {
      "provenance": [],
      "authorship_tag": "ABX9TyMEuo+oHITwe48myTSQThnZ"
    },
    "kernelspec": {
      "display_name": "Python 3",
      "name": "python3"
    },
    "language_info": {
      "name": "python"
    }
  },
  "nbformat": 4,
  "nbformat_minor": 0
}