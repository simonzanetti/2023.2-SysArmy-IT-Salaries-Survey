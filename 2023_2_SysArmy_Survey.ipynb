{
  "cells": [
    {
      "cell_type": "markdown",
      "metadata": {
        "id": "N0FdHavCAfiN"
      },
      "source": [
        "# OBTENCION DE DATOS\n",
        "**IMPORTAR LIBRERIAS Y OBTENER EL DATASET**\n",
        "\n",
        "En primer lugar, importaremos las siguientes librerias necesarias para el analisis y procederemos a leer y mostrar el dataset."
      ]
    },
    {
      "cell_type": "code",
      "execution_count": 1,
      "metadata": {
        "id": "J_bgYp3p8wFv"
      },
      "outputs": [],
      "source": [
        "import re\n",
        "import numpy as np\n",
        "import pandas as pd\n",
        "import seaborn as sns\n",
        "import matplotlib.pyplot as plt\n",
        "from scipy import stats\n",
        "from IPython.display import display\n",
        "\n",
        "pd.set_option('display.max_columns', None)"
      ]
    },
    {
      "cell_type": "code",
      "source": [
        "url ='https://raw.githubusercontent.com/simonzanetti/2023.2-SysArmy-IT-Salaries-Survey/main/dataset.csv'\n",
        "df = pd.read_csv(url)\n",
        "\n",
        "display(df.head(1))\n",
        "\n",
        "#print(\"Shape: \" + str(df.shape))\n",
        "#print(\"\\nColumn Names and Types: \")\n",
        "#print(df.dtypes)"
      ],
      "metadata": {
        "id": "Sx-7HHeU-uiG"
      },
      "execution_count": null,
      "outputs": []
    },
    {
      "cell_type": "markdown",
      "metadata": {
        "id": "XFmiyJo1AUsW"
      },
      "source": [
        "# PREPROCESAMIENTO\n",
        "**ORDENAR COLUMNAS**\n",
        "\n",
        "El primer paso de nuestra limpieza sera traducir al ingles el nombre de las columnas y eliminar aquellas que no sean relevantes para el analisis. Tambien ordene las columnas en las categorias:\n",
        "- Empleado\n",
        "- Trabajo\n",
        "- Empresa\n",
        "- Sueldo\n",
        "- Herramientas\n",
        "- Estudios\n",
        "\n",
        "Las columnas eliminadas fueron:\n",
        "- 'work_country': La totalidad de los encuestados es de Argentina\n",
        "- 'ARS/USD_exchange': No solo que el porcentaje de los que cobra parte o la totalidad de su sueldo en dolares es pequeño, sino tambien que existen varios tipos de cotizacion y no se aclara cual se usa en cada caso, ademas que la cotizacion suele variar segun las semanas, horas o dias, por lo que es una variable inestable y he decidido eliminarla.\n",
        "- 'is:number': Una variable que no vamos a utilizar."
      ]
    },
    {
      "cell_type": "code",
      "execution_count": 4,
      "metadata": {
        "id": "i8N8DCyaAXuF",
        "colab": {
          "base_uri": "https://localhost:8080/",
          "height": 73
        },
        "outputId": "bae15669-6a82-4cbf-a67b-28eb3926e814"
      },
      "outputs": [
        {
          "output_type": "display_data",
          "data": {
            "text/plain": [
              "Empty DataFrame\n",
              "Columns: [work_province, age, gender, work_title, work_dedication, work_contract_type, years_experience, years_in_company, years_in_position, people_in_charge, company_size, work_mode, office_days_number(hybrid), work_place_satisfaction, last_month_gross_salary, last_month_net_salary, salary_in_usd, salary_has_bonus, salary_bonus_tied_to, work_benefits, salary_satisfaction, platforms, programming_languages, frameworks, databases, qa_testing_tools, AI_tools_use, highest_level_studies, status, degree/specialization, university/school]\n",
              "Index: []"
            ],
            "text/html": [
              "\n",
              "  <div id=\"df-1340b6a6-fcb8-4112-a20c-91505acf9bd5\" class=\"colab-df-container\">\n",
              "    <div>\n",
              "<style scoped>\n",
              "    .dataframe tbody tr th:only-of-type {\n",
              "        vertical-align: middle;\n",
              "    }\n",
              "\n",
              "    .dataframe tbody tr th {\n",
              "        vertical-align: top;\n",
              "    }\n",
              "\n",
              "    .dataframe thead th {\n",
              "        text-align: right;\n",
              "    }\n",
              "</style>\n",
              "<table border=\"1\" class=\"dataframe\">\n",
              "  <thead>\n",
              "    <tr style=\"text-align: right;\">\n",
              "      <th></th>\n",
              "      <th>work_province</th>\n",
              "      <th>age</th>\n",
              "      <th>gender</th>\n",
              "      <th>work_title</th>\n",
              "      <th>work_dedication</th>\n",
              "      <th>work_contract_type</th>\n",
              "      <th>years_experience</th>\n",
              "      <th>years_in_company</th>\n",
              "      <th>years_in_position</th>\n",
              "      <th>people_in_charge</th>\n",
              "      <th>company_size</th>\n",
              "      <th>work_mode</th>\n",
              "      <th>office_days_number(hybrid)</th>\n",
              "      <th>work_place_satisfaction</th>\n",
              "      <th>last_month_gross_salary</th>\n",
              "      <th>last_month_net_salary</th>\n",
              "      <th>salary_in_usd</th>\n",
              "      <th>salary_has_bonus</th>\n",
              "      <th>salary_bonus_tied_to</th>\n",
              "      <th>work_benefits</th>\n",
              "      <th>salary_satisfaction</th>\n",
              "      <th>platforms</th>\n",
              "      <th>programming_languages</th>\n",
              "      <th>frameworks</th>\n",
              "      <th>databases</th>\n",
              "      <th>qa_testing_tools</th>\n",
              "      <th>AI_tools_use</th>\n",
              "      <th>highest_level_studies</th>\n",
              "      <th>status</th>\n",
              "      <th>degree/specialization</th>\n",
              "      <th>university/school</th>\n",
              "    </tr>\n",
              "  </thead>\n",
              "  <tbody>\n",
              "  </tbody>\n",
              "</table>\n",
              "</div>\n",
              "    <div class=\"colab-df-buttons\">\n",
              "\n",
              "  <div class=\"colab-df-container\">\n",
              "    <button class=\"colab-df-convert\" onclick=\"convertToInteractive('df-1340b6a6-fcb8-4112-a20c-91505acf9bd5')\"\n",
              "            title=\"Convert this dataframe to an interactive table.\"\n",
              "            style=\"display:none;\">\n",
              "\n",
              "  <svg xmlns=\"http://www.w3.org/2000/svg\" height=\"24px\" viewBox=\"0 -960 960 960\">\n",
              "    <path d=\"M120-120v-720h720v720H120Zm60-500h600v-160H180v160Zm220 220h160v-160H400v160Zm0 220h160v-160H400v160ZM180-400h160v-160H180v160Zm440 0h160v-160H620v160ZM180-180h160v-160H180v160Zm440 0h160v-160H620v160Z\"/>\n",
              "  </svg>\n",
              "    </button>\n",
              "\n",
              "  <style>\n",
              "    .colab-df-container {\n",
              "      display:flex;\n",
              "      gap: 12px;\n",
              "    }\n",
              "\n",
              "    .colab-df-convert {\n",
              "      background-color: #E8F0FE;\n",
              "      border: none;\n",
              "      border-radius: 50%;\n",
              "      cursor: pointer;\n",
              "      display: none;\n",
              "      fill: #1967D2;\n",
              "      height: 32px;\n",
              "      padding: 0 0 0 0;\n",
              "      width: 32px;\n",
              "    }\n",
              "\n",
              "    .colab-df-convert:hover {\n",
              "      background-color: #E2EBFA;\n",
              "      box-shadow: 0px 1px 2px rgba(60, 64, 67, 0.3), 0px 1px 3px 1px rgba(60, 64, 67, 0.15);\n",
              "      fill: #174EA6;\n",
              "    }\n",
              "\n",
              "    .colab-df-buttons div {\n",
              "      margin-bottom: 4px;\n",
              "    }\n",
              "\n",
              "    [theme=dark] .colab-df-convert {\n",
              "      background-color: #3B4455;\n",
              "      fill: #D2E3FC;\n",
              "    }\n",
              "\n",
              "    [theme=dark] .colab-df-convert:hover {\n",
              "      background-color: #434B5C;\n",
              "      box-shadow: 0px 1px 3px 1px rgba(0, 0, 0, 0.15);\n",
              "      filter: drop-shadow(0px 1px 2px rgba(0, 0, 0, 0.3));\n",
              "      fill: #FFFFFF;\n",
              "    }\n",
              "  </style>\n",
              "\n",
              "    <script>\n",
              "      const buttonEl =\n",
              "        document.querySelector('#df-1340b6a6-fcb8-4112-a20c-91505acf9bd5 button.colab-df-convert');\n",
              "      buttonEl.style.display =\n",
              "        google.colab.kernel.accessAllowed ? 'block' : 'none';\n",
              "\n",
              "      async function convertToInteractive(key) {\n",
              "        const element = document.querySelector('#df-1340b6a6-fcb8-4112-a20c-91505acf9bd5');\n",
              "        const dataTable =\n",
              "          await google.colab.kernel.invokeFunction('convertToInteractive',\n",
              "                                                    [key], {});\n",
              "        if (!dataTable) return;\n",
              "\n",
              "        const docLinkHtml = 'Like what you see? Visit the ' +\n",
              "          '<a target=\"_blank\" href=https://colab.research.google.com/notebooks/data_table.ipynb>data table notebook</a>'\n",
              "          + ' to learn more about interactive tables.';\n",
              "        element.innerHTML = '';\n",
              "        dataTable['output_type'] = 'display_data';\n",
              "        await google.colab.output.renderOutput(dataTable, element);\n",
              "        const docLink = document.createElement('div');\n",
              "        docLink.innerHTML = docLinkHtml;\n",
              "        element.appendChild(docLink);\n",
              "      }\n",
              "    </script>\n",
              "  </div>\n",
              "\n",
              "    </div>\n",
              "  </div>\n"
            ]
          },
          "metadata": {}
        }
      ],
      "source": [
        "columns_names = ['work_country','work_province','work_dedication','work_contract_type',\n",
        "                'last_month_gross_salary','last_month_net_salary','salary_in_usd',\n",
        "                'ARS/USD_exchange','salary_has_bonus','salary_bonus_tied_to',\n",
        "                '2023_salary_adjusment_times','percentage_adjustment',\n",
        "                'last_adjustment_month','last_semester_salary_comparison',\n",
        "                'work_benefits','salary_satisfaction','work_title','years_experience',\n",
        "                'years_in_company','years_in_position','people_in_charge','platforms',\n",
        "                'programming_languages','frameworks','databases','qa_testing_tools',\n",
        "                'company_size','work_mode','office_days_number(hybrid)','work_place_satisfaction',\n",
        "                'AI_tools_use','finish_survey(1)','highest_level_studies','status','degree/specialization',\n",
        "                'university/school','finish_survey(2)','work_on-call_duty','salary_on-call_duty',\n",
        "                'is_number','finish_survey(3)','age','gender']\n",
        "\n",
        "for i, nuevo_nombre in enumerate(columns_names):\n",
        "    df.rename(columns={df.columns[i]: nuevo_nombre}, inplace=True)\n",
        "\n",
        "salaries = pd.concat([df.iloc[:,0:2],df.iloc[:,41:],df.iloc[:,16],\n",
        "                      df.iloc[:,2:4],df.iloc[:,17:21],df.iloc[:,26:30],\n",
        "                      df.iloc[:,4:16],df.iloc[:,21:26],df.iloc[:,30:41]],axis=1)\n",
        "\n",
        "salaries.drop(inplace=True, columns=[\n",
        "                                    'work_country','ARS/USD_exchange','2023_salary_adjusment_times',\n",
        "                                    'percentage_adjustment','last_adjustment_month',\n",
        "                                    'last_semester_salary_comparison','finish_survey(1)','finish_survey(2)',\n",
        "                                    'work_on-call_duty','salary_on-call_duty','is_number','finish_survey(3)'\n",
        "                                    ])\n",
        "\n",
        "display(salaries.head(0))"
      ]
    },
    {
      "cell_type": "markdown",
      "source": [
        "**LIMPIEZA Y TRANSFORMACION DE NANS**"
      ],
      "metadata": {
        "id": "UIEbK5w6HlHY"
      }
    },
    {
      "cell_type": "code",
      "source": [
        "print(salaries.isna().sum()) # Recargar celda para visualizar cambios\n",
        "\n",
        "#SALARY_IN_USD\n",
        "#print(salaries['salary_in_usd'].unique())\n",
        "salaries['salary_in_usd'].fillna('No cobro mi salario en dolares',inplace=True)\n",
        "\n",
        "#TOOLS\n",
        "salaries.loc[:, 'platforms':'AI_tools_use'] = salaries.loc[:, 'platforms':'AI_tools_use'].fillna('Ninguna de las anteriores')\n",
        "\n",
        "#STUDIES\n",
        "#print(df['finish_survey(1)'].unique())\n",
        "#print(df['highest_level_studies'].unique())\n",
        "for columns in ('highest_level_studies','status','degree/specialization','university/school'):\n",
        "    salaries.loc[(df['finish_survey(1)'] == 'Terminar encuesta') |\n",
        "                 (df['finish_survey(1)'] == 'Responder sobre guardias'), columns] = 'Prefiero no responder'\n",
        "\n",
        "for columns in ('degree/specialization','university/school'):\n",
        "    salaries.loc[(df['highest_level_studies'] == 'Secundario'), columns] = 'Prefiero no responder'"
      ],
      "metadata": {
        "colab": {
          "base_uri": "https://localhost:8080/"
        },
        "id": "gPFTqLimHsno",
        "outputId": "ad6cf53c-291e-43fa-dbdc-525d4b76f29d"
      },
      "execution_count": 6,
      "outputs": [
        {
          "output_type": "stream",
          "name": "stdout",
          "text": [
            "work_province                   0\n",
            "age                             0\n",
            "gender                          0\n",
            "work_title                      0\n",
            "work_dedication                 0\n",
            "work_contract_type              0\n",
            "years_experience                0\n",
            "years_in_company                0\n",
            "years_in_position               0\n",
            "people_in_charge                0\n",
            "company_size                    0\n",
            "work_mode                       0\n",
            "office_days_number(hybrid)      0\n",
            "work_place_satisfaction         0\n",
            "last_month_gross_salary         0\n",
            "last_month_net_salary         239\n",
            "salary_in_usd                   0\n",
            "salary_has_bonus                0\n",
            "salary_bonus_tied_to            0\n",
            "work_benefits                   0\n",
            "salary_satisfaction             0\n",
            "platforms                       0\n",
            "programming_languages           0\n",
            "frameworks                      0\n",
            "databases                       0\n",
            "qa_testing_tools                0\n",
            "AI_tools_use                    0\n",
            "highest_level_studies           0\n",
            "status                          0\n",
            "degree/specialization          15\n",
            "university/school             350\n",
            "dtype: int64\n"
          ]
        }
      ]
    },
    {
      "cell_type": "markdown",
      "source": [
        "**LIMPIEZA DE DUPLICADOS**\n"
      ],
      "metadata": {
        "id": "6mRopCLeFag4"
      }
    },
    {
      "cell_type": "code",
      "source": [],
      "metadata": {
        "id": "bbOwd8uWFqRf"
      },
      "execution_count": null,
      "outputs": []
    },
    {
      "cell_type": "markdown",
      "source": [
        "**NORMALIZACION DE VALORES**\n",
        "\n",
        "En algunas columnas de este dataset nos encontraremos con una gran dispersion de opciones, con valores incorrectos o con valores que no representan de forma adecuada la respuesta del encuestado. Debido a ello necesitamos realizar una normalizacion de valores, en algunos casos en formato string y en otros casos en formato numerico.\n",
        "\n",
        "Con la necesidad de reducir el tamaño del codigo, he creado una funcion que toma un dataset, una columna y un diccionario que contiene un mapeo regex, devolviendo un nuevo dataset normalizado.\n",
        "\n",
        "Mediante el metodo pd.nunique() podemos ver la cantidad de opciones por cada variable, notando ciertas irregularidades:\n",
        "- **'gender'**: Presenta 144 opciones diferentes de generos, lo cual nos muestra que exste una dispersion erronea en los datos.\n",
        "- **'work title'**: Presenta una gran dispersion de valores.\n",
        "- **'people_in_charge'**: Hay 58 opciones que varian entre 0 y 300. Lo ideal seria agruparlas en categorias mas generales, pero para ello se necesita realizar un analisis para visualizar outliers y correlacion con otras variables para detectar valores falsos.  \n",
        "- **'company_size'**: Hay 11 categorias que varian entre 0 y 10000. Lo ideal seria agruparlas en categorias mas generales, pero para ello se necesita realizar un analisis para visualizar outliers y correlacion con otras variables para detectar valores falsos.\n",
        "- **'office_days_number(hybrid)'**: Las opciones '0' y '5' no son correctas, ya que representan a los empleados que o no van nunca a la oficina o que van todos los dias, lo cual no condice con el modo de trabajo hibrido. Se necesita un analisis previo antes de normalizar.\n",
        "\n"
      ],
      "metadata": {
        "id": "FJ1i89JM8Eoa"
      }
    },
    {
      "cell_type": "code",
      "source": [
        "def normalize_dataframe(df_in, column_name, regex_assign_map):\n",
        "    df_out = df_in.copy()\n",
        "    for regex, value in regex_assign_map.items():\n",
        "        print(\"\\nElementos de \" + str.capitalize(column_name) + \" que integran la categoria \" + regex)\n",
        "        compiled_regex = re.compile(regex, re.I)\n",
        "        mask = df_in[column_name].str.strip().str.match(compiled_regex, na=False)\n",
        "        print(df_in[df_out[column_name].str.strip().str.match(compiled_regex, na=False)][column_name].unique())\n",
        "        df_out.loc[mask, column_name] = value\n",
        "    return df_out\n",
        "print(\"Cantidad de valores que toma cada variable: \")\n",
        "print(salaries.nunique())"
      ],
      "metadata": {
        "id": "d_CuXelt96FE",
        "colab": {
          "base_uri": "https://localhost:8080/"
        },
        "outputId": "5f2ac70a-9677-4ae2-a12c-68f9e6603a04"
      },
      "execution_count": 7,
      "outputs": [
        {
          "output_type": "stream",
          "name": "stdout",
          "text": [
            "Cantidad de valores que toma cada variable: \n",
            "work_province                   24\n",
            "age                             58\n",
            "gender                         144\n",
            "work_title                     418\n",
            "work_dedication                  2\n",
            "work_contract_type               5\n",
            "years_experience                59\n",
            "years_in_company                50\n",
            "years_in_position               46\n",
            "people_in_charge                58\n",
            "company_size                    11\n",
            "work_mode                        3\n",
            "office_days_number(hybrid)       6\n",
            "work_place_satisfaction         11\n",
            "last_month_gross_salary       2173\n",
            "last_month_net_salary         2075\n",
            "salary_in_usd                    4\n",
            "salary_has_bonus                 5\n",
            "salary_bonus_tied_to           216\n",
            "work_benefits                 2101\n",
            "salary_satisfaction              4\n",
            "platforms                     1288\n",
            "programming_languages         1446\n",
            "frameworks                    1269\n",
            "databases                     1195\n",
            "qa_testing_tools               599\n",
            "AI_tools_use                     6\n",
            "highest_level_studies            8\n",
            "status                           4\n",
            "degree/specialization          342\n",
            "university/school               43\n",
            "dtype: int64\n"
          ]
        }
      ]
    },
    {
      "cell_type": "code",
      "source": [
        "#GENERO\n",
        "#print(salaries['gender'].unique())\n",
        "\n",
        "salaries = normalize_dataframe(salaries, 'gender',\n",
        "    {\n",
        "        \"^(?!.*(mujer)).*hombre.*|.*macho.*|.*masculino.*|^(?!.*(?:trans|bi|\\b(var[oó]n cis)\\b))var[oó]n\" : \"Varón Cis\",\n",
        "        \"^(?!.*(?:trans|bi|ag[eé]nero|var[oó]n)).*mujer\" : \"Mujer Cis\",\n",
        "        \"^(?=.*mujer|var[oó]n)(?=.*trans)(?!.*nb).*\" : \"Trans\",\n",
        "        \"^(?=.*mujer|var[oó]n)\\b(bi)\\b\" : \"Bisexual\",\n",
        "        \".*ag[eé]nero.*\" : \"Agenero\",\n",
        "        \".*ag[eé]nero.*\" : \"Agenero\",\n",
        "        \".*nb.*|.*no binario.*|.*no binarie.*\" : \"No binario\",\n",
        "    })"
      ],
      "metadata": {
        "id": "80wQHTzBGR2k"
      },
      "execution_count": null,
      "outputs": []
    },
    {
      "cell_type": "code",
      "source": [
        "#WORK_TITLE\n",
        "print(salaries['work_title'].unique())\n",
        "\n",
        "salaries1 = normalize_dataframe(salaries, 'work_title',\n",
        "    {\n",
        "\n",
        "    })"
      ],
      "metadata": {
        "id": "_Ncx1sRMBfET"
      },
      "execution_count": null,
      "outputs": []
    },
    {
      "cell_type": "code",
      "source": [
        "#PEOPLE_IN_CHARGE\n",
        "#ESPERAR ANALISIS\n",
        "print(sorted(salaries['people_in_charge'].unique()))\n",
        "#sns.countplot(x=salaries['people_in_charge'], color='steelblue')\n",
        "sns.scatterplot(data=salaries,x='people_in_charge',y = 'years_experience')"
      ],
      "metadata": {
        "id": "xWz8IBSUPvR7"
      },
      "execution_count": null,
      "outputs": []
    },
    {
      "cell_type": "code",
      "source": [
        "#COMPANY_SIZE\n",
        "#ESPERAR ANALISIS\n",
        "salaries['company_size'] = salaries['company_size'].str.replace(r'\\bDe\\b|\\bpersonas\\b', '', regex=True).str.strip()\n",
        "salaries['company_size'].replace({'1 (solamente yo)' : '1','11  a 50' : '11 a 50'})\n",
        "print(sorted(salaries['company_size'].unique()))\n",
        "sns.countplot(y=salaries['company_size'], color='steelblue',order=salaries['company_size'].value_counts().index)\n",
        "#sns.scatterplot(data=salaries,x='people_in_charge',y = 'years_experience')"
      ],
      "metadata": {
        "colab": {
          "base_uri": "https://localhost:8080/",
          "height": 504
        },
        "id": "GgU4zEOsl_BY",
        "outputId": "697470ea-1dbb-43c1-e422-fd9128eff38f"
      },
      "execution_count": null,
      "outputs": [
        {
          "output_type": "stream",
          "name": "stdout",
          "text": [
            "['1 (solamente yo)', '1001 a 2000', '101 a 200', '11  a 50', '2 a 10', '2001a 5000', '201 a 500', '5001 a 10000', '501 a 1000', '51 a 100', 'Más de 10000']\n"
          ]
        },
        {
          "output_type": "execute_result",
          "data": {
            "text/plain": [
              "<Axes: xlabel='count', ylabel='company_size'>"
            ]
          },
          "metadata": {},
          "execution_count": 63
        },
        {
          "output_type": "display_data",
          "data": {
            "text/plain": [
              "<Figure size 640x480 with 1 Axes>"
            ],
            "image/png": "[encoded data removed]"
          },
          "metadata": {}
        }
      ]
    },
    {
      "cell_type": "code",
      "source": [
        "#OFFICE_DAYS_NUMBER\n",
        "#ESPERAR ANALISIS\n",
        "print(sorted(salaries['office_days_number(hybrid)'].unique()))\n",
        "#sns.countplot(y=salaries['office_days_number(hybrid)'], color='steelblue',order=salaries['office_days_number(hybrid)'].value_counts().index)\n",
        "sns.heatmap(pd.crosstab(salaries['office_days_number(hybrid)'], salaries['work_mode']), annot=True, fmt='d', cmap='YlGnBu')"
      ],
      "metadata": {
        "colab": {
          "base_uri": "https://localhost:8080/",
          "height": 674
        },
        "id": "J563gRewp3kC",
        "outputId": "5cefcca4-d083-4bc0-fd14-9d5d61148afd"
      },
      "execution_count": null,
      "outputs": [
        {
          "output_type": "stream",
          "name": "stdout",
          "text": [
            "[0, 1, 2, 3, 4, 5]\n"
          ]
        },
        {
          "output_type": "execute_result",
          "data": {
            "text/plain": [
              "<Axes: xlabel='work_mode', ylabel='office_days_number(hybrid)'>"
            ]
          },
          "metadata": {},
          "execution_count": 67
        },
        {
          "output_type": "display_data",
          "data": {
            "text/plain": [
              "<Figure size 640x480 with 2 Axes>"
            ],
            "image/png": "[encoded data removed]"
          },
          "metadata": {}
        }
      ]
    },
    {
      "cell_type": "code",
      "source": [
        "#WORK_PLACE_SATISFACTION\n",
        "print(sorted(salaries['work_place_satisfaction'].unique()))\n",
        "sns.countplot(y=salaries['work_place_satisfaction'], color='steelblue',order=salaries['work_place_satisfaction'].value_counts().index)"
      ],
      "metadata": {
        "colab": {
          "base_uri": "https://localhost:8080/",
          "height": 484
        },
        "id": "f1iHiuqsvkEq",
        "outputId": "75ec6f0a-621c-4fa3-bde0-f901591b6a22"
      },
      "execution_count": null,
      "outputs": [
        {
          "output_type": "stream",
          "name": "stdout",
          "text": [
            "[0, 1, 2, 3, 4, 5, 6, 7, 8, 9, 10]\n"
          ]
        },
        {
          "output_type": "execute_result",
          "data": {
            "text/plain": [
              "<Axes: xlabel='count', ylabel='work_place_satisfaction'>"
            ]
          },
          "metadata": {},
          "execution_count": 68
        },
        {
          "output_type": "display_data",
          "data": {
            "text/plain": [
              "<Figure size 640x480 with 1 Axes>"
            ],
            "image/png": "[encoded data removed]"
          },
          "metadata": {}
        }
      ]
    },
    {
      "cell_type": "code",
      "source": [
        "#LAST_MONTH_GROSS_SALARY AND LAST_MONTH_NET_SALARY\n",
        "\n",
        "for index, valor in enumerate(salaries['last_month_gross_salary']):\n",
        "    if not(np.isfinite(salaries.at[index,'last_month_gross_salary'])) or np.isnan(salaries.at[index,'last_month_gross_salary']):\n",
        "        print(salaries.at[index,'last_month_gross_salary'])\n",
        "\n",
        "def normalize_salaries(df_in,column):\n",
        "    df_out = df_in.copy().astype(int)\n",
        "    df_out = df_out.astype(str)\n",
        "    df_out[column] = (df_out[column]\n",
        "    .str.replace(\".\", \"\")\n",
        "    .astype(int))\n",
        "    return df_out\n",
        "\n",
        "\n",
        "\n",
        "#salaries1 = normalize_salaries(salaries,'last_month_gross_salary')\n",
        "display(salaries1['last_month_gross_salary'])\n",
        "display(salaries['last_month_gross_salary'])\n",
        "#LAST_MONTH_GROSS_SALARY\n",
        "fig, axes = plt.subplots(2, 1, figsize=(10, 10))\n",
        "sns.boxplot(x=salaries['last_month_gross_salary'], color='steelblue',ax=axes[0])\n",
        "sns.boxplot(x=salaries1['last_month_gross_salary'], color='steelblue',ax=axes[1])"
      ],
      "metadata": {
        "id": "3yNUXd-72UsM"
      },
      "execution_count": null,
      "outputs": []
    },
    {
      "cell_type": "code",
      "source": [
        "#DEGREE/SPECIALIZATION\n",
        "#print(salaries['degree/specialization'].unique())\n",
        "\n",
        "salaries1 = normalize_dataframe(salaries, 'degree/specialization',\n",
        "    {\n",
        "        \".*ingenier[ií]a.* .*sistemas.*\" : \"Ingenieria en Sistemas\",\n",
        "        #\".*ana.* .*sistema.* \" : \"Analista de Sistemas\",\n",
        "        \".*empresa.* \" : \"Administracion de Empresas\",\n",
        "        \".*economia.* \" : \"Lic. en Economia\",\n",
        "        \".*desarrollo.* .*web.*\" : \"Tec. en Desarrollo Web\",\n",
        "        \".*desarrollo.* .*movil.*\" : \"Tec. en Desarrollo de Aplicaciones Moviles\",\n",
        "        \".*desarrollo.* .*software.*\" : \"Tec. en Desarrollo de Software\",\n",
        "        \".*juego.* .*game.*\" : \"Tec. en Desarrollo de Videojuegos\",\n",
        "        \"^(?!.*(?:higiene|lic|master|esp)).*seguridad.*\" : \"Tec. en Ciberseguridad/ Seguridad Informatica\",\n",
        "        \"^(?!.*(?:higiene|tec|master|esp)).*seguridad.*\" : \"Lic. en Ciberseguridad/ Seguridad Informatica\",\n",
        "        \".*tec.* .*redes.*\" : \"Tec. en Redes Informaticas y Telecomunicaciones\",\n",
        "        \".*lic.* .*redes.*\" : \"Lic. en Redes Informaticas y Telecomunicaciones\",\n",
        "        \"^(?!.*(?:sistema))(?=.*lic.* .*computaci[oó]n.*)\" : \"Lic. en Ciencia de la Computación\",\n",
        "        \".*ing.* .*computaci[oó]n.*\" : \"Ingeniería en Computación\",\n",
        "        \".*ana.* .*computaci[oó]n.*\" : \"Analista en Computación\",\n",
        "        \".*computaci[oó]n.*\" : \"Ingeniería en Computación\",\n",
        "        #\".*dat.* \" : \"Tec. en Desarrollo de Software\",\n",
        "        #\".*lic.* \" : \"Tec. en Desarrollo de Software\",\n",
        "        #\"^(?!.*(?:robot|admin))(?=.*lic.*sistemas)\" : \"Licenciatura en Sistemas\",\n",
        "    })\n"
      ],
      "metadata": {
        "id": "RKfkPeuEA-Y9"
      },
      "execution_count": null,
      "outputs": []
    },
    {
      "cell_type": "code",
      "source": [
        "fig = plt.figure(figsize=(15, 60))\n",
        "ax = sns.countplot(data=(salaries1['degree/specialization'].value_counts(normalize=True) * 100) > 10,y=salaries1['degree/specialization'], color='steelblue', order=salaries1[\"degree/specialization\"].value_counts().index)\n",
        "plt.title(\"Distribucion de encuestados por estudios\",loc='center')\n",
        "plt.xlabel(\"Cantidad\")\n",
        "plt.ylabel('')\n",
        "ax.bar_label(ax.containers[0], padding=3)\n",
        "ax.margins(y=0.015)"
      ],
      "metadata": {
        "id": "RHipY3y5aMqd"
      },
      "execution_count": null,
      "outputs": []
    },
    {
      "cell_type": "code",
      "source": [
        "print((salaries1['degree/specialization'].value_counts(normalize=True) * 100) > 0.5)"
      ],
      "metadata": {
        "id": "sFlWPr5th93X"
      },
      "execution_count": null,
      "outputs": []
    }
  ],
  "metadata": {
    "colab": {
      "provenance": [],
      "authorship_tag": "ABX9TyO/oO64gEg7xr31snUNuuwx"
    },
    "kernelspec": {
      "display_name": "Python 3",
      "name": "python3"
    },
    "language_info": {
      "name": "python"
    }
  },
  "nbformat": 4,
  "nbformat_minor": 0
}